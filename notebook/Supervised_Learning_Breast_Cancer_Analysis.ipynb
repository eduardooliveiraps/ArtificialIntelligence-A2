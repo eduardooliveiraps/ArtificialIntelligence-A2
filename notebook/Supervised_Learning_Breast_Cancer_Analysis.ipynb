{
 "cells": [
  {
   "cell_type": "markdown",
   "metadata": {},
   "source": [
    "# **Breast Cancer Prediction**\n",
    "\n",
    "## **Machine Learning: Supervised Learning** "
   ]
  },
  {
   "cell_type": "markdown",
   "metadata": {},
   "source": [
    "### **Introduction**"
   ]
  },
  {
   "cell_type": "markdown",
   "metadata": {},
   "source": [
    "### **Exploratory Data Analysis**"
   ]
  },
  {
   "cell_type": "code",
   "execution_count": 4,
   "metadata": {},
   "outputs": [
    {
     "name": "stdout",
     "output_type": "stream",
     "text": [
      "         id diagnosis  radius_mean  texture_mean  perimeter_mean  area_mean  \\\n",
      "0    842302         M        17.99         10.38          122.80     1001.0   \n",
      "1    842517         M        20.57         17.77          132.90     1326.0   \n",
      "2  84300903         M        19.69         21.25          130.00     1203.0   \n",
      "3  84348301         M        11.42         20.38           77.58      386.1   \n",
      "4  84358402         M        20.29         14.34          135.10     1297.0   \n",
      "\n",
      "   smoothness_mean  compactness_mean  concavity_mean  concave_points_mean  \\\n",
      "0          0.11840           0.27760          0.3001              0.14710   \n",
      "1          0.08474           0.07864          0.0869              0.07017   \n",
      "2          0.10960           0.15990          0.1974              0.12790   \n",
      "3          0.14250           0.28390          0.2414              0.10520   \n",
      "4          0.10030           0.13280          0.1980              0.10430   \n",
      "\n",
      "   symmetry_mean  fractal_dimension_mean  radius_se  texture_se  perimeter_se  \\\n",
      "0         0.2419                 0.07871     1.0950      0.9053         8.589   \n",
      "1         0.1812                 0.05667     0.5435      0.7339         3.398   \n",
      "2         0.2069                 0.05999     0.7456      0.7869         4.585   \n",
      "3         0.2597                 0.09744     0.4956      1.1560         3.445   \n",
      "4         0.1809                 0.05883     0.7572      0.7813         5.438   \n",
      "\n",
      "   area_se  smoothness_se  compactness_se  concavity_se  concave_points_se  \\\n",
      "0   153.40       0.006399         0.04904       0.05373            0.01587   \n",
      "1    74.08       0.005225         0.01308       0.01860            0.01340   \n",
      "2    94.03       0.006150         0.04006       0.03832            0.02058   \n",
      "3    27.23       0.009110         0.07458       0.05661            0.01867   \n",
      "4    94.44       0.011490         0.02461       0.05688            0.01885   \n",
      "\n",
      "   symmetry_se  fractal_dimension_se  radius_worst  texture_worst  \\\n",
      "0      0.03003              0.006193         25.38          17.33   \n",
      "1      0.01389              0.003532         24.99          23.41   \n",
      "2      0.02250              0.004571         23.57          25.53   \n",
      "3      0.05963              0.009208         14.91          26.50   \n",
      "4      0.01756              0.005115         22.54          16.67   \n",
      "\n",
      "   perimeter_worst  area_worst  smoothness_worst  compactness_worst  \\\n",
      "0           184.60      2019.0            0.1622             0.6656   \n",
      "1           158.80      1956.0            0.1238             0.1866   \n",
      "2           152.50      1709.0            0.1444             0.4245   \n",
      "3            98.87       567.7            0.2098             0.8663   \n",
      "4           152.20      1575.0            0.1374             0.2050   \n",
      "\n",
      "   concavity_worst  concave_points_worst  symmetry_worst  \\\n",
      "0           0.7119                0.2654          0.4601   \n",
      "1           0.2416                0.1860          0.2750   \n",
      "2           0.4504                0.2430          0.3613   \n",
      "3           0.6869                0.2575          0.6638   \n",
      "4           0.4000                0.1625          0.2364   \n",
      "\n",
      "   fractal_dimension_worst  \n",
      "0                  0.11890  \n",
      "1                  0.08902  \n",
      "2                  0.08758  \n",
      "3                  0.17300  \n",
      "4                  0.07678  \n"
     ]
    }
   ],
   "source": [
    "import pandas as pd \n",
    "\n",
    "df = pd.read_csv('../data/data.csv')\n",
    "\n",
    "print(df.head())"
   ]
  },
  {
   "cell_type": "markdown",
   "metadata": {},
   "source": [
    "### **Data Pre-processing**"
   ]
  },
  {
   "cell_type": "markdown",
   "metadata": {},
   "source": [
    "### **Model Selection and Implementation**"
   ]
  },
  {
   "cell_type": "markdown",
   "metadata": {},
   "source": [
    "### **Model Evaluation**"
   ]
  },
  {
   "cell_type": "markdown",
   "metadata": {},
   "source": [
    "### **Results Visualization**"
   ]
  },
  {
   "cell_type": "markdown",
   "metadata": {},
   "source": [
    "### **Conclusion**"
   ]
  }
 ],
 "metadata": {
  "kernelspec": {
   "display_name": "Python 3",
   "language": "python",
   "name": "python3"
  },
  "language_info": {
   "codemirror_mode": {
    "name": "ipython",
    "version": 3
   },
   "file_extension": ".py",
   "mimetype": "text/x-python",
   "name": "python",
   "nbconvert_exporter": "python",
   "pygments_lexer": "ipython3",
   "version": "3.12.2"
  }
 },
 "nbformat": 4,
 "nbformat_minor": 2
}
